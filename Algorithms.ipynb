{
 "cells": [
  {
   "cell_type": "code",
   "execution_count": 6,
   "metadata": {},
   "outputs": [
    {
     "name": "stdout",
     "output_type": "stream",
     "text": [
      "Enter the minimum marks required to pass in the exam : 100\n",
      "Enter the marks scored by student in the exam : 0\n",
      "This student is failed in the exam\n"
     ]
    }
   ],
   "source": [
    "# Formulate an algorithm to check for a student has passed in exam or not?\n",
    "y = float(input(\"Enter the minimum marks required to pass in the exam : \"))\n",
    "x = float(input('Enter the marks scored by student in the exam : '))\n",
    "if (x >= y):\n",
    "    print('This student is passed in the exam')\n",
    "else:\n",
    "    print('This student is failed in the exam')"
   ]
  },
  {
   "cell_type": "code",
   "execution_count": 12,
   "metadata": {},
   "outputs": [],
   "source": [
    "# Tree Traversal Algorithms. It is of 3 types : In, Pre, Post - order traveral.\n",
    "\n",
    "# creating a Node class\n",
    "class Node:\n",
    "    def __init__(self,val):\n",
    "        self.childleft = None\n",
    "        self.childright = None\n",
    "        self.nodedata = val\n",
    "\n",
    "# creating an instance of the Node class to construct the tree\n",
    "root = Node(1)\n",
    "root.childleft = Node(2)\n",
    "root.childright = Node(3)\n",
    "root.childleft.childleft = Node(4)\n",
    "root.childleft.childright = Node(5)\n"
   ]
  },
  {
   "cell_type": "code",
   "execution_count": 13,
   "metadata": {},
   "outputs": [
    {
     "name": "stdout",
     "output_type": "stream",
     "text": [
      "4\n",
      "2\n",
      "5\n",
      "1\n",
      "3\n"
     ]
    }
   ],
   "source": [
    "# perform In-order traversal : left-root-right\n",
    "def InOrd(root):\n",
    "    if root:\n",
    "        InOrd(root.childleft)\n",
    "        print(root.nodedata)\n",
    "        InOrd(root.childright)\n",
    "        \n",
    "InOrd(root)"
   ]
  },
  {
   "cell_type": "code",
   "execution_count": 14,
   "metadata": {},
   "outputs": [
    {
     "name": "stdout",
     "output_type": "stream",
     "text": [
      "1\n",
      "2\n",
      "4\n",
      "5\n",
      "3\n"
     ]
    }
   ],
   "source": [
    "# Pre-order traversal : root-left-right\n",
    "def PreOrd(root):   \n",
    "    if root:\n",
    "        print(root.nodedata)\n",
    "        PreOrd(root.childleft)\n",
    "        PreOrd(root.childright)\n",
    "    \n",
    "PreOrd(root)"
   ]
  },
  {
   "cell_type": "code",
   "execution_count": 15,
   "metadata": {},
   "outputs": [
    {
     "name": "stdout",
     "output_type": "stream",
     "text": [
      "4\n",
      "5\n",
      "2\n",
      "3\n",
      "1\n"
     ]
    }
   ],
   "source": [
    "# Post-order traversal : left-right-root\n",
    "def PostOrd(root):\n",
    "    if root:\n",
    "        PostOrd(root.childleft)\n",
    "        PostOrd(root.childright)\n",
    "        print(root.nodedata)\n",
    "    \n",
    "PostOrd(root)"
   ]
  },
  {
   "cell_type": "code",
   "execution_count": 16,
   "metadata": {},
   "outputs": [
    {
     "name": "stdout",
     "output_type": "stream",
     "text": [
      "Given array is\n",
      "12 11 13 5 6 7 \n",
      "Sorted array is: \n",
      "5 6 7 11 12 13 \n"
     ]
    }
   ],
   "source": [
    "# Sorting Algorithms\n",
    "\n",
    "# Merge sort : Divide and Conquer algorithm\n",
    "\n",
    "# Python program for implementation of MergeSort \n",
    "def mergeSort(arr): \n",
    "    if len(arr) >1: \n",
    "        mid = len(arr)//2 # Finding the mid of the array \n",
    "        L = arr[:mid] # Dividing the array elements  \n",
    "        R = arr[mid:] # into 2 halves \n",
    "  \n",
    "        mergeSort(L) # Sorting the first half \n",
    "        mergeSort(R) # Sorting the second half \n",
    "  \n",
    "        i = j = k = 0\n",
    "          \n",
    "        # Copy data to temp arrays L[] and R[] \n",
    "        while i < len(L) and j < len(R): \n",
    "            if L[i] < R[j]: \n",
    "                arr[k] = L[i] \n",
    "                i+= 1\n",
    "            else: \n",
    "                arr[k] = R[j] \n",
    "                j+= 1\n",
    "            k+= 1\n",
    "          \n",
    "        # Checking if any element was left \n",
    "        while i < len(L): \n",
    "            arr[k] = L[i] \n",
    "            i+= 1\n",
    "            k+= 1\n",
    "          \n",
    "        while j < len(R): \n",
    "            arr[k] = R[j] \n",
    "            j+= 1\n",
    "            k+= 1\n",
    "  \n",
    "# Code to print the list \n",
    "def printList(arr): \n",
    "    for i in range(len(arr)):         \n",
    "        print(arr[i], end =\" \") \n",
    "    print() \n",
    "  \n",
    "# driver code to test the above code \n",
    "if __name__ == '__main__': \n",
    "    arr = [12, 11, 13, 5, 6, 7]  \n",
    "    print (\"Given array is\", end =\"\\n\")  \n",
    "    printList(arr) \n",
    "    mergeSort(arr) \n",
    "    print(\"Sorted array is: \", end =\"\\n\") \n",
    "    printList(arr) \n",
    "  \n",
    "    "
   ]
  },
  {
   "cell_type": "code",
   "execution_count": null,
   "metadata": {},
   "outputs": [],
   "source": []
  }
 ],
 "metadata": {
  "kernelspec": {
   "display_name": "Python 3",
   "language": "python",
   "name": "python3"
  },
  "language_info": {
   "codemirror_mode": {
    "name": "ipython",
    "version": 3
   },
   "file_extension": ".py",
   "mimetype": "text/x-python",
   "name": "python",
   "nbconvert_exporter": "python",
   "pygments_lexer": "ipython3",
   "version": "3.8.3"
  }
 },
 "nbformat": 4,
 "nbformat_minor": 4
}
