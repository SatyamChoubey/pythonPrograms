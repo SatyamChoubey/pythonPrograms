{
 "cells": [
  {
   "cell_type": "code",
   "execution_count": 9,
   "metadata": {},
   "outputs": [
    {
     "name": "stdout",
     "output_type": "stream",
     "text": [
      "Enter a year : 2020\n",
      "2020 is not a leap year\n"
     ]
    }
   ],
   "source": [
    "# check a given year is leap year or not, using nested if-else\n",
    "year = int(input(\"Enter a year : \"))\n",
    "if (year % 4) == 0:\n",
    "    if (year % 100) == 0:\n",
    "        if (year % 400) == 0:\n",
    "            print(\"{0} is a leap year\".format(year))\n",
    "        else:\n",
    "            print(\"{0} is not a leap year\".format(year))\n",
    "    else:\n",
    "        print(\"{0} is not a leap year\".format(year))\n",
    "else:\n",
    "    print(\"{0} is not a leap year\".format(year))\n",
    "\n",
    "#----------THIS IS WRONG CONCEPT-------------------------------------"
   ]
  },
  {
   "cell_type": "code",
   "execution_count": 6,
   "metadata": {},
   "outputs": [
    {
     "data": {
      "text/plain": [
       "True"
      ]
     },
     "execution_count": 6,
     "metadata": {},
     "output_type": "execute_result"
    }
   ],
   "source": [
    "import calendar\n",
    "\n",
    "def is_leap(year):\n",
    "    return calendar.isleap(year)\n",
    "is_leap(2000)"
   ]
  },
  {
   "cell_type": "code",
   "execution_count": 7,
   "metadata": {},
   "outputs": [
    {
     "data": {
      "text/plain": [
       "False"
      ]
     },
     "execution_count": 7,
     "metadata": {},
     "output_type": "execute_result"
    }
   ],
   "source": [
    "is_leap(1900)"
   ]
  },
  {
   "cell_type": "code",
   "execution_count": 8,
   "metadata": {},
   "outputs": [
    {
     "data": {
      "text/plain": [
       "True"
      ]
     },
     "execution_count": 8,
     "metadata": {},
     "output_type": "execute_result"
    }
   ],
   "source": [
    "is_leap(2020)"
   ]
  },
  {
   "cell_type": "code",
   "execution_count": 17,
   "metadata": {},
   "outputs": [
    {
     "name": "stdout",
     "output_type": "stream",
     "text": [
      "2020\n",
      "True\n"
     ]
    }
   ],
   "source": [
    "# ------------------------RIGHT CONCEPT--------------------------------------------------\n",
    "\n",
    "def is_leap(year):\n",
    "    return year % 4 ==0 and (year % 100 != 0 or year % 400 == 0)\n",
    "year = int(input())\n",
    "print(is_leap(year))\n"
   ]
  },
  {
   "cell_type": "code",
   "execution_count": 18,
   "metadata": {},
   "outputs": [
    {
     "name": "stdout",
     "output_type": "stream",
     "text": [
      "2020\n",
      "True\n"
     ]
    }
   ],
   "source": [
    "def is_leap(year):\n",
    "    return year % 4 ==0 and (year % 100 != 0 or year % 400 == 0)\n",
    "\n",
    "print(is_leap(year = int(input())))"
   ]
  },
  {
   "cell_type": "code",
   "execution_count": 28,
   "metadata": {},
   "outputs": [
    {
     "name": "stdout",
     "output_type": "stream",
     "text": [
      "3\n",
      "123"
     ]
    }
   ],
   "source": [
    "n = int(input())\n",
    "for i in range(1,n+1):  # Starts from 1 and consider n also \n",
    "    print(i,end='')     # here the end = '' will take next iteration as the argument and print it in the same line."
   ]
  },
  {
   "cell_type": "code",
   "execution_count": 35,
   "metadata": {},
   "outputs": [
    {
     "name": "stdout",
     "output_type": "stream",
     "text": [
      "3\n",
      "123\n"
     ]
    }
   ],
   "source": [
    "print(*range(1,int(input())+1), sep='')    # Here * is used to unpack the iterator\n",
    "# Don't use end here, it will give space."
   ]
  },
  {
   "cell_type": "code",
   "execution_count": 5,
   "metadata": {},
   "outputs": [
    {
     "name": "stdout",
     "output_type": "stream",
     "text": [
      "7 3 \n",
      "Tsi\n",
      "h%x\n",
      "I #\n",
      "sM \n",
      "$a \n",
      "#t%\n",
      "ir!\n",
      "['Tsi', 'h%x', 'I #', 'sM ', '$a ', '#t%', 'ir!']\n",
      "[('T', 'h', 'I', 's', '$', '#', 'i'), ('s', '%', ' ', 'M', 'a', 't', 'r'), ('i', 'x', '#', ' ', ' ', '%', '!')]\n"
     ]
    }
   ],
   "source": [
    "# matrix_script\n",
    "# help from youtube\n",
    "\n",
    "n,m = map(int,input().split())    # take no. of rows and columns and asks for the elements in the row-wise.\n",
    "l = list()\n",
    "for i in range(n):\n",
    "    l.append(input())\n",
    "print(l)\n",
    "l=list(zip(*l))     # It join all 3 lists into one and in the column-wise, bcoz of '*'\n",
    "print(l)\n",
    "# s = ''              # create an empty string\n",
    "# for i in l:\n",
    "#     s=s+''.join(i)  # make the list into string.\n",
    "# print(s)"
   ]
  },
  {
   "cell_type": "code",
   "execution_count": 7,
   "metadata": {},
   "outputs": [
    {
     "name": "stdout",
     "output_type": "stream",
     "text": [
      "ThIs$#is% Matrix#  %!\n"
     ]
    }
   ],
   "source": [
    "s = ''\n",
    "for i in l:\n",
    "    s=s+''.join(i)\n",
    "print(s)"
   ]
  },
  {
   "cell_type": "code",
   "execution_count": 9,
   "metadata": {},
   "outputs": [
    {
     "name": "stdout",
     "output_type": "stream",
     "text": [
      "ThIs is Matrix#  %!\n"
     ]
    }
   ],
   "source": [
    "import re\n",
    "s=re.sub(r'\\b[^a-zA-Z0-9]+\\b',r' ',s) #\\start and end boundary, don't take presence of alpha-numerics and other than this take it and replace with a space.\n",
    "print(s)"
   ]
  },
  {
   "cell_type": "code",
   "execution_count": null,
   "metadata": {},
   "outputs": [],
   "source": []
  }
 ],
 "metadata": {
  "kernelspec": {
   "display_name": "Python 3",
   "language": "python",
   "name": "python3"
  },
  "language_info": {
   "codemirror_mode": {
    "name": "ipython",
    "version": 3
   },
   "file_extension": ".py",
   "mimetype": "text/x-python",
   "name": "python",
   "nbconvert_exporter": "python",
   "pygments_lexer": "ipython3",
   "version": "3.8.3"
  }
 },
 "nbformat": 4,
 "nbformat_minor": 4
}
