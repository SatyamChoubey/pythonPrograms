{
 "cells": [
  {
   "cell_type": "code",
   "execution_count": 2,
   "metadata": {},
   "outputs": [],
   "source": [
    "# python object-oriented programming\n",
    "\n",
    "# attributes- data, methods - a function associated with a class\n",
    "\n",
    "class Employee:    # create a class\n",
    "    pass           # just want to skip that now, means empty class\n",
    "    \n",
    "    "
   ]
  },
  {
   "cell_type": "code",
   "execution_count": 3,
   "metadata": {},
   "outputs": [
    {
     "name": "stdout",
     "output_type": "stream",
     "text": [
      "<__main__.Employee object at 0x7f5910ffd160>\n",
      "<__main__.Employee object at 0x7f5910ffd100>\n"
     ]
    }
   ],
   "source": [
    "# class is basically a blueprint for creating Instances.\n",
    "\n",
    "emp_1 = Employee()      # create a unique instance of the Employee class\n",
    "emp_2 = Employee()\n",
    "\n",
    "print(emp_1)  # unique, shown by address of memory\n",
    "print(emp_2)"
   ]
  },
  {
   "cell_type": "code",
   "execution_count": 4,
   "metadata": {},
   "outputs": [
    {
     "name": "stdout",
     "output_type": "stream",
     "text": [
      "satyamkc@iitk.ac.in\n",
      "rrajput@iitk.ac.in\n"
     ]
    }
   ],
   "source": [
    "emp_1.first = 'Satyam'   # attributes\n",
    "emp_1.last = 'Choubey'\n",
    "emp_1.email = 'satyamkc@iitk.ac.in'\n",
    "emp_1.pay = 50000\n",
    "\n",
    "emp_2.first = 'Rohit'\n",
    "emp_2.last = 'Rajput'\n",
    "emp_2.email = 'rrajput@iitk.ac.in'\n",
    "emp_2.pay = 60000\n",
    "\n",
    "print(emp_1.email)\n",
    "print(emp_2.email)\n",
    "\n",
    "# If we use special init method, then no need to do like this big type of way, means no need to give each time all the data for each employee."
   ]
  },
  {
   "cell_type": "code",
   "execution_count": 16,
   "metadata": {},
   "outputs": [
    {
     "name": "stdout",
     "output_type": "stream",
     "text": [
      "Choubey.Satyam@iitk.ac.in\n",
      "Rajput.Rohit@iitk.ac.in\n",
      "Satyam Choubey\n",
      "Rohit Rajput\n",
      "Satyam Choubey\n"
     ]
    }
   ],
   "source": [
    "class Employee:\n",
    "    \n",
    "    def __init__(self, first, last, pay):  # Initialize.  self is the instance \n",
    "        self.first = first           # self.fname = first\n",
    "        self.last = last\n",
    "        self.pay = pay\n",
    "        self.email = last + '.' + first + '@iitk.ac.in'\n",
    "        \n",
    "    def fullname(self):\n",
    "        return '{} {}'.format(self.first,self.last)\n",
    "        \n",
    "\n",
    "emp_1 = Employee('Satyam','Choubey',50000)\n",
    "emp_2 = Employee('Rohit','Rajput',60000)\n",
    "\n",
    "print(emp_1.email)\n",
    "print(emp_2.email)    \n",
    "\n",
    "print(emp_1.fullname())     # use paranthesis bcoz it's a method\n",
    "print(emp_2.fullname())\n",
    "\n",
    "print(Employee.fullname(emp_1))"
   ]
  },
  {
   "cell_type": "code",
   "execution_count": 13,
   "metadata": {},
   "outputs": [
    {
     "name": "stdout",
     "output_type": "stream",
     "text": [
      "Satyam Choubey\n"
     ]
    }
   ],
   "source": [
    "print('{} {}'.format(emp_1.first,emp_1.last))  # print full name"
   ]
  },
  {
   "cell_type": "code",
   "execution_count": 15,
   "metadata": {},
   "outputs": [
    {
     "name": "stdout",
     "output_type": "stream",
     "text": [
      "Rohit Rajput\n"
     ]
    }
   ],
   "source": [
    "print(emp_2.fullname())"
   ]
  },
  {
   "cell_type": "code",
   "execution_count": 16,
   "metadata": {},
   "outputs": [
    {
     "name": "stdout",
     "output_type": "stream",
     "text": [
      "{'first': 'Satyam', 'last': 'Choubey', 'pay': 50000, 'email': 'Choubey.Satyam@iitk.ac.in', 'raise_amount': 1.05}\n",
      "1.04\n",
      "1.05\n",
      "1.04\n"
     ]
    }
   ],
   "source": [
    "#  class variables\n",
    "\n",
    "class Employee:\n",
    "    \n",
    "    raise_amount = 1.04\n",
    "    \n",
    "    def __init__(self, first, last, pay):  # Initialize.  self is the instance \n",
    "        self.first = first           # self.fname = first\n",
    "        self.last = last\n",
    "        self.pay = pay\n",
    "        self.email = last + '.' + first + '@iitk.ac.in'\n",
    "        \n",
    "    def fullname(self):\n",
    "        return '{} {}'.format(self.first,self.last)\n",
    "    \n",
    "    def apply_raise(self):\n",
    "        self.pay = int(self.pay * self.raise_amount)   # Employee.raise_amount\n",
    "        \n",
    "\n",
    "emp_1 = Employee('Satyam','Choubey',50000)\n",
    "emp_2 = Employee('Rohit','Rajput',60000)\n",
    "\n",
    "# print(emp_1.pay)\n",
    "# emp_1.apply_raise()\n",
    "# print(emp_1.pay)\n",
    "\n",
    "# print(Employee.raise_amount)\n",
    "# print(emp_1.raise_amount)\n",
    "# print(emp_2.raise_amount)\n",
    "\n",
    "# print(emp_1.__dict__)\n",
    "# print(Employee.__dict__)      # namespace\n",
    "\n",
    "# Employee.raise_amount = 1.05\n",
    "emp_1.raise_amount = 1.05\n",
    "\n",
    "print(emp_1.__dict__)\n",
    "print(Employee.raise_amount)\n",
    "print(emp_1.raise_amount)\n",
    "print(emp_2.raise_amount)"
   ]
  },
  {
   "cell_type": "code",
   "execution_count": 17,
   "metadata": {},
   "outputs": [
    {
     "name": "stdout",
     "output_type": "stream",
     "text": [
      "0\n",
      "2\n"
     ]
    }
   ],
   "source": [
    "class Employee:\n",
    "    \n",
    "    num_of_emps = 0\n",
    "    raise_amount = 1.04\n",
    "    \n",
    "    \n",
    "    def __init__(self, first, last, pay):  # Initialize.  self is the instance \n",
    "        self.first = first           # self.fname = first\n",
    "        self.last = last\n",
    "        self.pay = pay\n",
    "        self.email = last + '.' + first + '@iitk.ac.in'\n",
    "        \n",
    "        Employee.num_of_emps +=1\n",
    "    def fullname(self):\n",
    "        return '{} {}'.format(self.first,self.last)\n",
    "    \n",
    "    def apply_raise(self):\n",
    "        self.pay = int(self.pay * self.raise_amount)   # Employee.raise_amount\n",
    "        \n",
    "print(Employee.num_of_emps)\n",
    "\n",
    "emp_1 = Employee('Satyam','Choubey',50000)\n",
    "emp_2 = Employee('Rohit','Rajput',60000)\n",
    "\n",
    "print(Employee.num_of_emps)"
   ]
  },
  {
   "cell_type": "code",
   "execution_count": 24,
   "metadata": {},
   "outputs": [
    {
     "name": "stdout",
     "output_type": "stream",
     "text": [
      "1.05\n",
      "1.05\n",
      "1.05\n"
     ]
    }
   ],
   "source": [
    "# class methods  and static methods\n",
    "\n",
    "class Employee:\n",
    "    \n",
    "    num_of_emps = 0\n",
    "    raise_amt= 1.04\n",
    "    \n",
    "    \n",
    "    def __init__(self, first, last, pay):  # Initialize.  self is the instance \n",
    "        self.first = first           # self.fname = first\n",
    "        self.last = last\n",
    "        self.pay = pay\n",
    "        self.email = last + '.' + first + '@iitk.ac.in'\n",
    "        \n",
    "        Employee.num_of_emps +=1\n",
    "    def fullname(self):\n",
    "        return '{} {}'.format(self.first,self.last)\n",
    "    \n",
    "    def apply_raise(self):\n",
    "        self.pay = int(self.pay * self.raise_amount)   # Employee.raise_amount\n",
    "      \n",
    "    @classmethod\n",
    "    def set_raise_amt(cls,amount):\n",
    "        cls.raise_amt = amount\n",
    "\n",
    "\n",
    "emp_1 = Employee('Satyam','Choubey',50000)\n",
    "emp_2 = Employee('Rohit','Rajput',60000)\n",
    "\n",
    "# Employee.set_raise_amt(1.05)\n",
    "emp_1.set_raise_amt(1.05)\n",
    "\n",
    "print(Employee.raise_amt)\n",
    "print(emp_1.raise_amt)\n",
    "print(emp_2.raise_amt)"
   ]
  },
  {
   "cell_type": "code",
   "execution_count": 29,
   "metadata": {},
   "outputs": [
    {
     "name": "stdout",
     "output_type": "stream",
     "text": [
      "Verma.Mridul@iitk.ac.in\n",
      "80000\n"
     ]
    }
   ],
   "source": [
    "class Employee:\n",
    "    \n",
    "    num_of_emps = 0\n",
    "    raise_amt= 1.04\n",
    "    \n",
    "    \n",
    "    def __init__(self, first, last, pay):  # Initialize.  self is the instance \n",
    "        self.first = first           # self.fname = first\n",
    "        self.last = last\n",
    "        self.pay = pay\n",
    "        self.email = last + '.' + first + '@iitk.ac.in'\n",
    "        \n",
    "        Employee.num_of_emps +=1\n",
    "    def fullname(self):\n",
    "        return '{} {}'.format(self.first,self.last)\n",
    "    \n",
    "    def apply_raise(self):\n",
    "        self.pay = int(self.pay * self.raise_amount)   # Employee.raise_amount\n",
    "      \n",
    "    @classmethod\n",
    "    def set_raise_amt(cls,amount):\n",
    "        cls.raise_amt = amount\n",
    "        \n",
    "    @classmethod\n",
    "    def from_string(cls,emp_str):       #class methods as alternative constructors\n",
    "        first,last,pay = emp_str.split('-')\n",
    "        return cls(first,last,pay)\n",
    "        \n",
    "\n",
    "\n",
    "emp_1 = Employee('Satyam','Choubey',50000)\n",
    "emp_2 = Employee('Rohit','Rajput',60000)\n",
    "\n",
    "emp_str_1 = 'Shubham-Jaiswal-70000'\n",
    "emp_str_2 = 'Mridul-Verma-80000'\n",
    "emp_str_3 = 'Prashant-Mishra-90000'\n",
    "\n",
    "# first,last,pay = emp_str_1.split('-')\n",
    "# new_emp_1 = Employee(first,last,pay)\n",
    "\n",
    "new_emp_1 = Employee.from_string(emp_str_2)      # alternative constructor \n",
    "\n",
    "print(new_emp_1.email)\n",
    "print(new_emp_1.pay)\n"
   ]
  },
  {
   "cell_type": "code",
   "execution_count": 42,
   "metadata": {},
   "outputs": [
    {
     "name": "stdout",
     "output_type": "stream",
     "text": [
      "False\n",
      "True\n"
     ]
    }
   ],
   "source": [
    "class Employee:\n",
    "    \n",
    "    num_of_emps = 0\n",
    "    raise_amt= 1.04\n",
    "    \n",
    "    \n",
    "    def __init__(self, first, last, pay):  # Initialize.  self is the instance \n",
    "        self.first = first           # self.fname = first\n",
    "        self.last = last\n",
    "        self.pay = pay\n",
    "        self.email = last + '.' + first + '@iitk.ac.in'\n",
    "        \n",
    "        Employee.num_of_emps +=1\n",
    "    def fullname(self):                             \n",
    "        return '{} {}'.format(self.first,self.last)\n",
    "    \n",
    "    def apply_raise(self):              # regular instance method : take self as first argument \n",
    "        self.pay = int(self.pay * self.raise_amt)   # Employee.raise_amount\n",
    "      \n",
    "    @classmethod\n",
    "    def set_raise_amt(cls,amount):      # class method : take cls as first argument\n",
    "        cls.raise_amt = amount\n",
    "        \n",
    "    @classmethod\n",
    "    def from_string(cls,emp_str):       #class methods as alternative constructors\n",
    "        first,last,pay = emp_str.split('-')\n",
    "        return cls(first,last,pay)\n",
    "     \n",
    "    @staticmethod\n",
    "    def is_workday(day):          # static method : don't take any argument like self or cls.\n",
    "        if day.weekday() == 5 or day.weekday() == 6:    # 5 means saturday and 6 means sunday, 1 means monday\n",
    "            return False\n",
    "        return True\n",
    "    \n",
    "            \n",
    "emp_1 = Employee('Satyam','Choubey',50000)\n",
    "emp_2 = Employee('Rohit','Rajput',60000)\n",
    "\n",
    "import datetime\n",
    "\n",
    "my_date = datetime.date(2020,10,11)      # sunday\n",
    "print(Employee.is_workday(my_date))\n",
    "\n",
    "my_date = datetime.date(2020,10,12)\n",
    "print(Employee.is_workday(my_date))      # monday"
   ]
  },
  {
   "cell_type": "code",
   "execution_count": 58,
   "metadata": {},
   "outputs": [
    {
     "name": "stdout",
     "output_type": "stream",
     "text": [
      "Choubey.Satyam@iitk.ac.in\n",
      "Python\n"
     ]
    }
   ],
   "source": [
    "#   Inheritance : creating Subclasses\n",
    "# Inheritance allows us to inherits attributes and methods from a parent class\n",
    "\n",
    "class Employee:\n",
    "    \n",
    "    raise_amt= 1.04\n",
    "    \n",
    "    \n",
    "    def __init__(self, first, last, pay):  # Initialize.  self is the instance \n",
    "        self.first = first           # self.fname = first\n",
    "        self.last = last\n",
    "        self.pay = pay\n",
    "        self.email = last + '.' + first + '@iitk.ac.in'\n",
    "        \n",
    "    def fullname(self):                             \n",
    "        return '{} {}'.format(self.first,self.last)\n",
    "    \n",
    "    def apply_raise(self):              # regular instance method : take self as first argument \n",
    "        self.pay = int(self.pay * self.raise_amt)\n",
    "\n",
    "        \n",
    "class Developer(Employee):\n",
    "    raise_amt = 1.10\n",
    "    \n",
    "    def __init__(self, first, last, pay, prog_lang):\n",
    "        super().__init__(first, last, pay)\n",
    "        #Employee.__init__(self,first, last, pay)\n",
    "        self.prog_lang = prog_lang\n",
    "\n",
    "\n",
    "# dev_1 = Employee('Satyam','Choubey',50000)\n",
    "dev_1 = Developer('Satyam','Choubey',50000,'Python')\n",
    "dev_2 = Developer('Rohit','Rajput',60000,'Java')\n",
    "\n",
    "# print(help(Developer))\n",
    "\n",
    "print(dev_1.email)\n",
    "print(dev_1.prog_lang)\n",
    "\n",
    "# print(dev_1.pay)\n",
    "# dev_1.apply_raise()\n",
    "# dev_2.apply_raise()\n",
    "# print(dev_1.pay)\n",
    "# print(dev_2.pay)\n",
    "\n",
    "\n",
    "\n",
    "\n"
   ]
  },
  {
   "cell_type": "code",
   "execution_count": 78,
   "metadata": {},
   "outputs": [
    {
     "name": "stdout",
     "output_type": "stream",
     "text": [
      "True\n",
      "True\n"
     ]
    }
   ],
   "source": [
    "class Employee:\n",
    "    \n",
    "    raise_amt= 1.04\n",
    "    \n",
    "    \n",
    "    def __init__(self, first, last, pay):  # Initialize.  self is the instance \n",
    "        self.first = first           # self.fname = first\n",
    "        self.last = last\n",
    "        self.pay = pay\n",
    "        self.email = last + '.' + first + '@iitk.ac.in'\n",
    "        \n",
    "    def fullname(self):                             \n",
    "        return '{} {}'.format(self.first,self.last)\n",
    "    \n",
    "    def apply_raise(self):              # regular instance method : take self as first argument \n",
    "        self.pay = int(self.pay * self.raise_amt)\n",
    "\n",
    "        \n",
    "class Developer(Employee):\n",
    "    raise_amt = 1.10\n",
    "    \n",
    "    def __init__(self, first, last, pay, prog_lang):\n",
    "        super().__init__(first, last, pay)\n",
    "        self.prog_lang = prog_lang\n",
    "        \n",
    "class Manager(Employee):\n",
    "    \n",
    "    def __init__(self, first, last, pay, employees = None):\n",
    "        super().__init__(first, last, pay)\n",
    "        if employees is None:\n",
    "            self.employees = []\n",
    "        else:\n",
    "            self.employees = employees\n",
    "            \n",
    "    def add_emp(self, emp):\n",
    "        if emp not in self.employees:\n",
    "            self.employees.append(emp)\n",
    "            \n",
    "    def remove_emp(self, emp):\n",
    "        if emp in self.employees:\n",
    "            self.employees.remove(emp)\n",
    "            \n",
    "    def print_emps(self):\n",
    "        for emp in self.employees:\n",
    "            print('--->',emp.fullname())\n",
    "        \n",
    "\n",
    "dev_1 = Developer('Satyam','Choubey',50000,'Python')\n",
    "dev_2 = Developer('Rohit','Rajput',60000,'Java')\n",
    "\n",
    "mgr_1 = Manager('Rashmi','Malik',90000,[dev_1])\n",
    "\n",
    "# print(mgr_1.email)\n",
    "\n",
    "# mgr_1.add_emp(dev_2)\n",
    "\n",
    "# mgr_1.remove_emp(dev_1)\n",
    "\n",
    "# mgr_1.print_emps()\n",
    "\n",
    "print(isinstance(mgr_1,Manager))\n",
    "print(issubclass(Developer,Employee))"
   ]
  },
  {
   "cell_type": "code",
   "execution_count": 114,
   "metadata": {},
   "outputs": [
    {
     "name": "stdout",
     "output_type": "stream",
     "text": [
      "14\n"
     ]
    }
   ],
   "source": [
    "# Special (Magic / Dunder) methods\n",
    "\n",
    "class Employee:\n",
    "    \n",
    "    raise_amt= 1.04\n",
    "    \n",
    "    \n",
    "    def __init__(self, first, last, pay):  # Initialize.  self is the instance \n",
    "        self.first = first           # self.fname = first\n",
    "        self.last = last\n",
    "        self.pay = pay\n",
    "        self.email = last + '.' + first + '@iitk.ac.in'\n",
    "        \n",
    "    def fullname(self):                             \n",
    "        return '{} {}'.format(self.first,self.last)\n",
    "    \n",
    "    def apply_raise(self):              # regular instance method : take self as first argument \n",
    "        self.pay = int(self.pay * self.raise_amt)\n",
    "        \n",
    "    def __repr__(self):\n",
    "        return \"Employee('{}','{}','{}')\".format(self.first,self.last,self.pay)\n",
    "    \n",
    "    def __str__(self):\n",
    "        return '{} - {}'.format(self.fullname(),self.email)\n",
    "    \n",
    "    def __add__(self,other):\n",
    "        return self.pay + other.pay\n",
    "    \n",
    "    def __len__(self):\n",
    "        return len(self.fullname())\n",
    "\n",
    " \n",
    "\n",
    "emp_1 = Employee('Satyam','Choubey',50000)\n",
    "emp_2 = Employee('Rohit','Rajput',60000)\n",
    "\n",
    "\n",
    "# print(emp_1)\n",
    "\n",
    "# print(repr(emp_1))\n",
    "# print(str(emp_1))\n",
    "\n",
    "# print(emp_1.__repr__())\n",
    "# print(emp_1.__str__())\n",
    "\n",
    "# print(1+2)\n",
    "# print(int.__add__(1,2))\n",
    "# print(str.__add__('a','b'))\n",
    "\n",
    "# print(emp_1 + emp_2)\n",
    "\n",
    "# print(len('test'))\n",
    "# print('test'.__len__())\n",
    "\n",
    "# print(len(emp_1))"
   ]
  },
  {
   "cell_type": "code",
   "execution_count": 129,
   "metadata": {},
   "outputs": [
    {
     "name": "stdout",
     "output_type": "stream",
     "text": [
      "Priyanka\n",
      "Priyanka.Kumari@gmail.com\n",
      "Delete name!\n"
     ]
    }
   ],
   "source": [
    "# Property Decorators\n",
    "class Employee:\n",
    "    \n",
    "    def __init__(self,first,last):\n",
    "        self.first = first\n",
    "        self.last = last\n",
    "     \n",
    "    @property\n",
    "    def email(self):\n",
    "        return '{}.{}@gmail.com'.format(self.first,self.last)\n",
    "    \n",
    "    @property\n",
    "    def fullname(self):\n",
    "        return '{} {}'.format(self.first,self.last)\n",
    "    \n",
    "    @fullname.setter\n",
    "    def fullname(self,name):\n",
    "        first, last = name.split(' ')\n",
    "        self.first = first\n",
    "        self.last = last\n",
    "        \n",
    "    @fullname.deleter\n",
    "    def fullname(self):\n",
    "        print('Delete name!')\n",
    "        self.first = None\n",
    "        self.last = None\n",
    "        \n",
    "        \n",
    "emp_1  = Employee('Satyam','Choubey')\n",
    "\n",
    "# emp_1.first = 'Sundaram'\n",
    "\n",
    "# print(emp_1.first)\n",
    "# print(emp_1.email())\n",
    "# print(emp_1.fullname())\n",
    "\n",
    "# print(emp_1.email)\n",
    "# print(emp_1.fullname)\n",
    "\n",
    "emp_1.fullname = 'Priyanka Kumari'\n",
    "print(emp_1.first)\n",
    "print(emp_1.email)\n",
    "\n",
    "del emp_1.fullname"
   ]
  },
  {
   "cell_type": "code",
   "execution_count": null,
   "metadata": {},
   "outputs": [],
   "source": []
  }
 ],
 "metadata": {
  "kernelspec": {
   "display_name": "Python 3",
   "language": "python",
   "name": "python3"
  },
  "language_info": {
   "codemirror_mode": {
    "name": "ipython",
    "version": 3
   },
   "file_extension": ".py",
   "mimetype": "text/x-python",
   "name": "python",
   "nbconvert_exporter": "python",
   "pygments_lexer": "ipython3",
   "version": "3.8.3"
  }
 },
 "nbformat": 4,
 "nbformat_minor": 4
}
