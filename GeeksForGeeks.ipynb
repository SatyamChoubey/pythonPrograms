{
 "cells": [
  {
   "cell_type": "code",
   "execution_count": 4,
   "metadata": {},
   "outputs": [
    {
     "name": "stdout",
     "output_type": "stream",
     "text": [
      "[20, 40.5, 'Satyam']\n"
     ]
    }
   ],
   "source": [
    "# GeeksforGeeks\n",
    "#-----------------------------------------------------------\n",
    "\n",
    "# create an empty list\n",
    "nums=[]\n",
    "# appending data in list\n",
    "nums.append(20)\n",
    "nums.append(40.5)\n",
    "nums.append(\"Satyam\")\n",
    "\n",
    "print(nums)"
   ]
  },
  {
   "cell_type": "code",
   "execution_count": 5,
   "metadata": {},
   "outputs": [
    {
     "name": "stdout",
     "output_type": "stream",
     "text": [
      "Enter your name: Satyam\n",
      "hello Satyam\n"
     ]
    }
   ],
   "source": [
    "# getting input from user\n",
    "name = input(\"Enter your name: \")\n",
    "print(\"hello\",name)"
   ]
  },
  {
   "cell_type": "code",
   "execution_count": 7,
   "metadata": {},
   "outputs": [
    {
     "name": "stdout",
     "output_type": "stream",
     "text": [
      "Enter num1: 5\n",
      "Enter num2: 7\n",
      "Product is :  35\n"
     ]
    }
   ],
   "source": [
    "num1 = int(input(\"Enter num1: \"))\n",
    "num2 = int(input(\"Enter num2: \"))\n",
    "num3 = num1*num2\n",
    "print(\"Product is : \",num3)"
   ]
  },
  {
   "cell_type": "code",
   "execution_count": 8,
   "metadata": {},
   "outputs": [
    {
     "name": "stdout",
     "output_type": "stream",
     "text": [
      "Num1 is good\n"
     ]
    }
   ],
   "source": [
    "# Selection statement\n",
    "\n",
    "num1 = 34\n",
    "\n",
    "if(num1>12):\n",
    "    print(\"Num1 is good\")\n",
    "elif(num1>35):\n",
    "    print(\"Num is gooooo...\")\n",
    "else:\n",
    "    print(\"NUm is great!\")"
   ]
  },
  {
   "cell_type": "code",
   "execution_count": 6,
   "metadata": {},
   "outputs": [
    {
     "name": "stdout",
     "output_type": "stream",
     "text": [
      "hello\n",
      "hello again Satyam\n",
      "hello\n",
      "hello again Satyam\n"
     ]
    }
   ],
   "source": [
    "# Functions\n",
    "\n",
    "def hello():\n",
    "    print(\"hello\")\n",
    "    print(\"hello again Satyam\")\n",
    "  \n",
    "hello()\n",
    "\n",
    "#calling function\n",
    "hello()"
   ]
  },
  {
   "cell_type": "code",
   "execution_count": 10,
   "metadata": {},
   "outputs": [
    {
     "name": "stdout",
     "output_type": "stream",
     "text": [
      "Started\n",
      "Enter integer: 5\n",
      "5\n"
     ]
    }
   ],
   "source": [
    "# function with main \n",
    "def getInteger(): \n",
    "\tresult = int(input(\"Enter integer: \")) \n",
    "\treturn result \n",
    "\n",
    "def Main(): \n",
    "\tprint(\"Started\") \n",
    "\n",
    "\t# calling the getInteger function and \n",
    "\t# storing its returned value in the output variable \n",
    "\toutput = getInteger()\t \n",
    "\tprint(output) \n",
    "\n",
    "# now we are required to tell Python \n",
    "# for 'Main' function existence \n",
    "if __name__==\"__main__\": \n",
    "\tMain() \n"
   ]
  },
  {
   "cell_type": "code",
   "execution_count": 11,
   "metadata": {},
   "outputs": [
    {
     "name": "stdout",
     "output_type": "stream",
     "text": [
      "0\n",
      "1\n",
      "2\n",
      "3\n",
      "4\n"
     ]
    }
   ],
   "source": [
    "# a simple for loop\n",
    "\n",
    "for step in range(5):\n",
    "    print(step)"
   ]
  },
  {
   "cell_type": "code",
   "execution_count": 15,
   "metadata": {},
   "outputs": [
    {
     "name": "stdout",
     "output_type": "stream",
     "text": [
      "Enter a number: 5\n",
      "5.0\n"
     ]
    }
   ],
   "source": [
    "# math module \n",
    "import math \n",
    "\n",
    "def Main(): \n",
    "\tnum = float(input(\"Enter a number: \")) \n",
    "\n",
    "\t# fabs is used to get the absolute value of a decimal \n",
    "\tnum = math.fabs(num) \n",
    "\tprint(num) \n",
    "if __name__==\"__main__\": \n",
    "\tMain() \n"
   ]
  },
  {
   "cell_type": "code",
   "execution_count": 19,
   "metadata": {},
   "outputs": [],
   "source": [
    "\n",
    "# var1 is in the global namespace  \n",
    "var1 = 5\n",
    "def some_func(): \n",
    "  \n",
    "    # var2 is in the local namespace  \n",
    "    var2 = 6\n",
    "    def some_inner_func(): \n",
    "  \n",
    "        # var3 is in the nested local  \n",
    "        # namespace \n",
    "        var3 = 7\n",
    "\n",
    "\n"
   ]
  },
  {
   "cell_type": "code",
   "execution_count": 20,
   "metadata": {},
   "outputs": [
    {
     "name": "stdout",
     "output_type": "stream",
     "text": [
      "6\n"
     ]
    }
   ],
   "source": [
    "# Python program processing \n",
    "# global variable \n",
    "\n",
    "count = 5\n",
    "def some_method(): \n",
    "\tglobal count \n",
    "\tcount = count + 1\n",
    "\tprint(count) \n",
    "    \n",
    "some_method() \n"
   ]
  },
  {
   "cell_type": "code",
   "execution_count": 22,
   "metadata": {},
   "outputs": [
    {
     "name": "stdout",
     "output_type": "stream",
     "text": [
      "41\n"
     ]
    }
   ],
   "source": [
    "s = 1+2+3+\\              # declared using continuation-character\n",
    "5+6+7+\\\n",
    "8+\\\n",
    "9\n",
    "\n",
    "print(s)"
   ]
  },
  {
   "cell_type": "code",
   "execution_count": 4,
   "metadata": {},
   "outputs": [
    {
     "name": "stdout",
     "output_type": "stream",
     "text": [
      "4\n",
      "Ram\n",
      "5.04\n"
     ]
    }
   ],
   "source": [
    "a = 4; b = \"Ram\"; c = 5.04     # More variables can be declared in one line using semicolons(;)\n",
    "print(a)\n",
    "print(b)\n",
    "print(c)"
   ]
  },
  {
   "cell_type": "code",
   "execution_count": null,
   "metadata": {},
   "outputs": [],
   "source": []
  }
 ],
 "metadata": {
  "kernelspec": {
   "display_name": "Python 3",
   "language": "python",
   "name": "python3"
  },
  "language_info": {
   "codemirror_mode": {
    "name": "ipython",
    "version": 3
   },
   "file_extension": ".py",
   "mimetype": "text/x-python",
   "name": "python",
   "nbconvert_exporter": "python",
   "pygments_lexer": "ipython3",
   "version": "3.8.3"
  }
 },
 "nbformat": 4,
 "nbformat_minor": 4
}
