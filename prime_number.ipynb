{
 "cells": [
  {
   "cell_type": "code",
   "execution_count": 23,
   "metadata": {},
   "outputs": [
    {
     "name": "stdout",
     "output_type": "stream",
     "text": [
      "Find sum of prime numbers upto : 9\n",
      "\n",
      "Sum of all prime numbers upto 9 : 17\n"
     ]
    }
   ],
   "source": [
    "# Find out sum of prime numbers upto\n",
    "\n",
    "upto = int(input(\"Find sum of prime numbers upto : \"))\n",
    "\n",
    "sum = 0\n",
    "\n",
    "for num in range(2, upto + 1):\n",
    "\n",
    "    i = 0\n",
    "    \n",
    "    for i in range(2, num):\n",
    "        if (int(num % i) == 0):\n",
    "            i = num\n",
    "            break;\n",
    "\n",
    "    #If the number is prime then add it.\n",
    "    if i is not num:     # condition for prime\n",
    "        sum += num\n",
    "\n",
    "print(\"\\nSum of all prime numbers upto\", upto, \":\", sum)"
   ]
  },
  {
   "cell_type": "code",
   "execution_count": 37,
   "metadata": {},
   "outputs": [
    {
     "name": "stdout",
     "output_type": "stream",
     "text": [
      "Enter the number: 2\n",
      "Prime\n"
     ]
    }
   ],
   "source": [
    "# check prime number\n",
    "\n",
    "# logic : check is it divisible by 2 to num-1\n",
    "\n",
    "num = int(input(\"Enter the number: \"))\n",
    "\n",
    "for i in range(2,num):        # range don't take num, it will be automatically upto num-1\n",
    "    if (num % i == 0):\n",
    "        print(\"Not prime\")\n",
    "        break      # bcoz once you know the number is not a prime then no need to check from remaining number.\n",
    "        \n",
    "else:\n",
    "        print(\"Prime\")\n",
    "    \n",
    "    \n",
    "\n"
   ]
  },
  {
   "cell_type": "code",
   "execution_count": null,
   "metadata": {},
   "outputs": [],
   "source": []
  }
 ],
 "metadata": {
  "kernelspec": {
   "display_name": "Python 3",
   "language": "python",
   "name": "python3"
  },
  "language_info": {
   "codemirror_mode": {
    "name": "ipython",
    "version": 3
   },
   "file_extension": ".py",
   "mimetype": "text/x-python",
   "name": "python",
   "nbconvert_exporter": "python",
   "pygments_lexer": "ipython3",
   "version": "3.8.3"
  }
 },
 "nbformat": 4,
 "nbformat_minor": 4
}
