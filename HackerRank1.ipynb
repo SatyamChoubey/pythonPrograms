{
 "cells": [
  {
   "cell_type": "code",
   "execution_count": 1,
   "metadata": {},
   "outputs": [],
   "source": [
    "class Scene(object):\n",
    "    def enter(self):\n",
    "        pass\n",
    "\n",
    "class Engine(object):\n",
    "    def __init__(self,scene_map):\n",
    "        pass\n",
    "    def play(self):\n",
    "        pass\n",
    "\n",
    "class Death(Scene):\n",
    "    def enter(self):\n",
    "        pass\n",
    "    \n",
    "class CentralCorridor(Scene):\n",
    "    def enter(self):\n",
    "        pass\n",
    "    \n",
    "class LaserWeaponArmory(Scene):\n",
    "    def enter(self):\n",
    "        pass\n",
    "class TheBridge(Scene):\n",
    "    def enter(self):\n",
    "        pass\n",
    "class EscapePod(Scene):\n",
    "    def enter(self):\n",
    "        pass\n",
    "    \n",
    "class Map(object):\n",
    "    def __init__(self,start_scene):\n",
    "        pass\n",
    "    \n",
    "    def next_scene(self,scene_name):\n",
    "        pass\n",
    "    def opening_scene(self):\n",
    "        pass\n",
    "\n",
    "a_map = Map(\"central_corridor\")\n",
    "a_game = Engine(a_map)\n",
    "a_game.play()\n",
    "        "
   ]
  },
  {
   "cell_type": "code",
   "execution_count": 10,
   "metadata": {},
   "outputs": [
    {
     "name": "stdout",
     "output_type": "stream",
     "text": [
      "29\n",
      "Weird\n"
     ]
    }
   ],
   "source": [
    "n = int(input().strip())\n",
    "check = {True: \"Not Weird\", False: \"Weird\"}\n",
    "\n",
    "print(check[\n",
    "        n%2==0 and (\n",
    "            n in range(2,6) or \n",
    "            n > 20)\n",
    "    ])"
   ]
  },
  {
   "cell_type": "code",
   "execution_count": 20,
   "metadata": {},
   "outputs": [
    {
     "name": "stdout",
     "output_type": "stream",
     "text": [
      "2\n",
      "Not Weird\n"
     ]
    }
   ],
   "source": [
    "n = int(input())\n",
    "\n",
    "if n%2==0 and (n in range(2,6) or n>20 ):\n",
    "    print (\"Not Weird\"),\n",
    "else:\n",
    "    print (\"Weird\"),\n"
   ]
  },
  {
   "cell_type": "code",
   "execution_count": 23,
   "metadata": {},
   "outputs": [
    {
     "name": "stdout",
     "output_type": "stream",
     "text": [
      "28\n",
      "Not Weird\n"
     ]
    }
   ],
   "source": [
    "def wierd(n):\n",
    "    if n % 2 == 1 or 6 <= n <= 20:\n",
    "        print('Weird')\n",
    "    else:\n",
    "        print('Not Weird')\n",
    "\n",
    "\n",
    "wierd(int(input()))"
   ]
  },
  {
   "cell_type": "code",
   "execution_count": 24,
   "metadata": {},
   "outputs": [
    {
     "name": "stdout",
     "output_type": "stream",
     "text": [
      "5\n",
      "3\n",
      "8\n",
      "2\n",
      "15\n"
     ]
    }
   ],
   "source": [
    "if __name__ == '__main__':\n",
    "    a = int(input())\n",
    "    b = int(input())\n",
    "\n",
    "print(a+b)\n",
    "print(a-b)\n",
    "print(a*b)"
   ]
  },
  {
   "cell_type": "code",
   "execution_count": 28,
   "metadata": {},
   "outputs": [
    {
     "name": "stdout",
     "output_type": "stream",
     "text": [
      "8\n",
      "4\n",
      "12\n",
      "4\n",
      "32\n"
     ]
    }
   ],
   "source": [
    "a, b = int(input()), int(input())\n",
    "print((a + b), (a - b), (a * b), sep='\\n')  # sep is used for printing next value to the next line "
   ]
  },
  {
   "cell_type": "code",
   "execution_count": 29,
   "metadata": {},
   "outputs": [
    {
     "name": "stdout",
     "output_type": "stream",
     "text": [
      "9\n",
      "5\n",
      "1\n",
      "1.8\n"
     ]
    }
   ],
   "source": [
    "a,b = int(input()), int(input())\n",
    "print(a//b,a/b, sep='\\n')"
   ]
  },
  {
   "cell_type": "code",
   "execution_count": null,
   "metadata": {},
   "outputs": [],
   "source": []
  }
 ],
 "metadata": {
  "kernelspec": {
   "display_name": "Python 3",
   "language": "python",
   "name": "python3"
  },
  "language_info": {
   "codemirror_mode": {
    "name": "ipython",
    "version": 3
   },
   "file_extension": ".py",
   "mimetype": "text/x-python",
   "name": "python",
   "nbconvert_exporter": "python",
   "pygments_lexer": "ipython3",
   "version": "3.8.3"
  }
 },
 "nbformat": 4,
 "nbformat_minor": 4
}
